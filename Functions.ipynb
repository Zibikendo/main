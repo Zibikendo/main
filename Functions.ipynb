{
 "cells": [
  {
   "cell_type": "code",
   "execution_count": 1,
   "id": "05751b7f-037d-4d19-a2f9-56e76e2217b0",
   "metadata": {},
   "outputs": [],
   "source": [
    "# Take text file in sample.txt format and create an Excel \n",
    "\n",
    "import pandas as pd\n",
    "import re\n",
    "import json\n",
    "\n",
    "'''\n",
    "sample.txt\n",
    "{\n",
    "\t\"sheet_name\": [\n",
    "\t{\n",
    "\t\t\"c1\": \"10\",\n",
    "\t\t\"c2\": \"A10\", \n",
    "\t\t\"c3\": \"W3\"\n",
    "\t\t},\n",
    "\t\t{\n",
    "\t\t\"c1\": \"20\",\n",
    "\t\t\"c2\": \"B10\",\n",
    "\t\t\"c3\": \"W4\"\n",
    "\t\t}\n",
    "\t]\n",
    "}\n",
    "'''\n",
    "\n",
    "file_name = 'sample'\n",
    "\n",
    "def txt_to_xlsx(input_file: str, output_file: str):\n",
    "    # Read the text file content\n",
    "    with open(input_file, 'r') as file:\n",
    "        content = file.read()\n",
    "\n",
    "    # Extract the first word in double quotes\n",
    "    sheet_name = re.findall(r'\"([^\"]*)\"', content)[0]\n",
    "\n",
    "    # Load the JSON data from the content\n",
    "    json_data = json.loads(content)\n",
    "\n",
    "    # Convert the JSON data to a DataFrame\n",
    "    df = pd.DataFrame(json_data[sheet_name])\n",
    "\n",
    "    # Save the DataFrame as an xlsx file\n",
    "    df.to_excel(output_file, sheet_name=sheet_name, index=False)\n",
    "\n",
    "# Sample usage\n",
    "txt_to_xlsx(file_name, file_name+'.xlsx')"
   ]
  },
  {
   "cell_type": "code",
   "execution_count": 2,
   "id": "924f6b3d-b063-4948-adc0-0d403163fca7",
   "metadata": {},
   "outputs": [],
   "source": [
    "#Generate image with QR code out of any url pasted into \"url\" variable\n",
    "\n",
    "import qrcode\n",
    "from PIL import Image\n",
    "\n",
    "def generate_qr_code(url: str, output_file: str = \"qr_code.png\"):\n",
    "    qr = qrcode.QRCode(\n",
    "        version=1,\n",
    "        error_correction=qrcode.constants.ERROR_CORRECT_L,\n",
    "        box_size=10,\n",
    "        border=4,\n",
    "    )\n",
    "    qr.add_data(url)\n",
    "    qr.make(fit=True)\n",
    "    img = qr.make_image(fill_color=\"black\", back_color=\"white\")\n",
    "    img.save(output_file)\n",
    "    return Image.open(output_file)\n",
    "\n",
    "url = \"https://www.google.com/\"\n",
    "img = generate_qr_code(url)\n",
    "img.show()"
   ]
  },
  {
   "cell_type": "code",
   "execution_count": null,
   "id": "ba420d37-5967-4a3f-8ea7-1a9f1a274cfa",
   "metadata": {},
   "outputs": [],
   "source": []
  }
 ],
 "metadata": {
  "kernelspec": {
   "display_name": "Python 3 (ipykernel)",
   "language": "python",
   "name": "python3"
  },
  "language_info": {
   "codemirror_mode": {
    "name": "ipython",
    "version": 3
   },
   "file_extension": ".py",
   "mimetype": "text/x-python",
   "name": "python",
   "nbconvert_exporter": "python",
   "pygments_lexer": "ipython3",
   "version": "3.9.12"
  }
 },
 "nbformat": 4,
 "nbformat_minor": 5
}
