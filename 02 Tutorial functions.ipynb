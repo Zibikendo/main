{
 "cells": [
  {
   "cell_type": "code",
   "execution_count": 2,
   "metadata": {},
   "outputs": [
    {
     "name": "stdout",
     "output_type": "stream",
     "text": [
      "<class 'function'>\n"
     ]
    }
   ],
   "source": [
    "# In OOP we are working with objects that have certain class \n",
    "# (they are an instance of a specific class) like for example:\n",
    "def hello():\n",
    "\tprint(\"hello\")\n",
    "print(type(hello))\n",
    "# Class defines the way an object is interacting with other object in a program. "
   ]
  },
  {
   "cell_type": "code",
   "execution_count": 3,
   "metadata": {},
   "outputs": [
    {
     "name": "stdout",
     "output_type": "stream",
     "text": [
      "HELLO\n"
     ]
    }
   ],
   "source": [
    "# Functions or methods define what we are doing with objects. \n",
    "# Like making the string all capital letters \n",
    "# so working on object with class string with built in method of `upper()`:\n",
    "string = \"hello\"\n",
    "print(string.upper())"
   ]
  },
  {
   "cell_type": "code",
   "execution_count": 4,
   "metadata": {},
   "outputs": [
    {
     "name": "stdout",
     "output_type": "stream",
     "text": [
      "one, two\n",
      "None\n"
     ]
    }
   ],
   "source": [
    "def func_new():\n",
    "    print(\"one, two\")\n",
    "output = func_new()\n",
    "# This function returns no value\n",
    "print(output)"
   ]
  },
  {
   "cell_type": "code",
   "execution_count": null,
   "metadata": {},
   "outputs": [],
   "source": [
    "# Running functions:\n",
    "def main():\n",
    "\tfunc1()\n",
    "\tfunc2()\n",
    "\tfunc1()\n",
    "\t\n",
    "def func1():\n",
    "    print('One')\n",
    "\n",
    "def func2():\n",
    "    print('Two')\n",
    "\n",
    "if __name__ == \"__main__\": main()"
   ]
  },
  {
   "cell_type": "code",
   "execution_count": null,
   "metadata": {},
   "outputs": [],
   "source": [
    "# Running functions with default values:\n",
    "def main():\n",
    "\tfunc1(3)\n",
    "\tfunc1(a)\n",
    "\t\n",
    "def func1(a=1):\n",
    "    print(a)\n",
    "if __name__ == \"__main__\": main()"
   ]
  },
  {
   "cell_type": "code",
   "execution_count": 5,
   "metadata": {},
   "outputs": [],
   "source": [
    "# New class in Python:\n",
    "class Cat:\n",
    "    def miau(self):\n",
    "        print(\"miau\")"
   ]
  },
  {
   "cell_type": "code",
   "execution_count": 6,
   "metadata": {},
   "outputs": [
    {
     "name": "stdout",
     "output_type": "stream",
     "text": [
      "<class '__main__.Cat'>\n"
     ]
    }
   ],
   "source": [
    "# If we assign a parameter 'c' to a class it become an instance of a class Cat. \n",
    "# So when we want to check what type the object is (what class) \n",
    "# we will get the the information that it belong to class Cat:\n",
    "c = Cat()\n",
    "print(type(c))"
   ]
  },
  {
   "cell_type": "code",
   "execution_count": 7,
   "metadata": {},
   "outputs": [
    {
     "name": "stdout",
     "output_type": "stream",
     "text": [
      "miau\n"
     ]
    }
   ],
   "source": [
    "# \"Main\" with underscored is the default module. \n",
    "# The output shows where the class was defined. \n",
    "# If we use this method on an object we will execute the 'miau' function:\n",
    "c.miau()"
   ]
  },
  {
   "cell_type": "code",
   "execution_count": 10,
   "metadata": {},
   "outputs": [
    {
     "name": "stdout",
     "output_type": "stream",
     "text": [
      "<class '__main__.Cat'>\n"
     ]
    }
   ],
   "source": [
    "# If we expand this class and add a new function like 'minus_one' \n",
    "# we can perform operations on the 'c' object:\n",
    "class Cat:\n",
    "    def miau(self):\n",
    "        print(\"miau\")\n",
    "    def minus_one(self, x):\n",
    "        return x - 1\n",
    "c = Cat()\n",
    "print(type(c))\n",
    "print(c.minus_one(3))"
   ]
  },
  {
   "cell_type": "code",
   "execution_count": 3,
   "metadata": {},
   "outputs": [
    {
     "name": "stdout",
     "output_type": "stream",
     "text": [
      "Tim\n",
      "Oldie\n"
     ]
    }
   ],
   "source": [
    "# Adding attributes like 'name' to a class is through 'init' method (the constructor) \n",
    "# allows to reference them after the parameter:\n",
    "class New_class:\n",
    "\t# Constructor\n",
    "\tdef __init__(self, person_name = \"Tim\"):\n",
    "\t\tself.person_name = person_name\n",
    "\t\t\n",
    "\tdef whatName(self):\n",
    "\t\treturn self.person_name\n",
    "\n",
    "def main():\n",
    "    new_person = New_class()\n",
    "    old_person = New_class(\"Oldie\")\n",
    "    print(new_person.whatName())\n",
    "    print(old_person.whatName())\n",
    "\n",
    "if __name__ == \"__main__\": main()"
   ]
  },
  {
   "cell_type": "code",
   "execution_count": 5,
   "metadata": {},
   "outputs": [
    {
     "name": "stdout",
     "output_type": "stream",
     "text": [
      "Bad\n",
      "Bad\n"
     ]
    }
   ],
   "source": [
    "# Adding attributes like 'name' to a class is through 'init' method \n",
    "# allows to reference them after the parameter:\n",
    "class Cat:\n",
    "    def __init__(self, name):\n",
    "        self.name = name\n",
    "        print(name)\n",
    "    def miau(self):\n",
    "        print(\"miau\")\n",
    "    def minus_one(self, x):\n",
    "        return x - 1\n",
    "c = Cat('Bad')\n",
    "print(c.name)"
   ]
  },
  {
   "cell_type": "code",
   "execution_count": 7,
   "metadata": {},
   "outputs": [
    {
     "name": "stdout",
     "output_type": "stream",
     "text": [
      "Bad\n",
      "Very Bad\n"
     ]
    }
   ],
   "source": [
    "''' 'Self' serves as a reference to the current instance of the class \n",
    "and is used to access variables and methods that belong to the class. \n",
    "It is a refence to instantiated object. \n",
    "This mechanism allows each object to keep track of its own data and behavior, \n",
    "enabling the creation of multiple instances of a class, each with its own distinct state.\n",
    "We use 'self' because we need to pass 'c' object itself so that we know which we are accessing: '''\n",
    "class Cat:\n",
    "    def __init__(self, name):\n",
    "        self.name = name\n",
    "    def get_name(self):\n",
    "        return self.name\n",
    "c = Cat('Bad')\n",
    "print(c.get_name())\n",
    "c2 = Cat('Very Bad')\n",
    "print(c2.get_name())"
   ]
  },
  {
   "cell_type": "code",
   "execution_count": 20,
   "metadata": {},
   "outputs": [
    {
     "name": "stdout",
     "output_type": "stream",
     "text": [
      "Bad\n",
      "2\n",
      "Very Bad\n",
      "2\n"
     ]
    }
   ],
   "source": [
    "# We can use methods to change values assigned to a class:\n",
    "class Cat:\n",
    "    def __init__(self, name, age):\n",
    "        self.name = name\n",
    "        self.age = age\n",
    "    def get_name(self):\n",
    "        return self.name\n",
    "    def get_age(self):\n",
    "        return self.age\n",
    "    def set_age(self, age):\n",
    "        self.age = age\n",
    "c = Cat('Bad',3)\n",
    "c.set_age(2)\n",
    "print(c.get_name())\n",
    "print(c.get_age())\n",
    "\n",
    "c2 = Cat('Very Bad',1)\n",
    "c2.set_age(2)\n",
    "print(c2.get_name())\n",
    "print(c2.get_age())"
   ]
  },
  {
   "cell_type": "code",
   "execution_count": null,
   "metadata": {},
   "outputs": [],
   "source": [
    "# We create classes so that we can have multiple instances of them \n",
    "# instead of assigning them one by one:\n",
    "# Basic way of assigning parameters\n",
    "cat1_name = \"Bad\"\n",
    "cat1_age = 3\n",
    "cat2_name = \"Very Bad\"\n",
    "cat2_age = 1\n",
    "# Not scalable way of assigning parameters\n",
    "cats_name = [\"Bad\", \"Very Bad\"]\n",
    "cats_age = [3,1]"
   ]
  },
  {
   "cell_type": "code",
   "execution_count": 9,
   "metadata": {},
   "outputs": [
    {
     "name": "stdout",
     "output_type": "stream",
     "text": [
      "1 1 2 3 5 8 13 21 34 55 89 "
     ]
    }
   ],
   "source": [
    "# Classes introduction with simple Fibonacci series:\n",
    "# the sum of two elements defines the next set\n",
    "class Fibonacci():\n",
    "    def __init__(self, a, b):\n",
    "        self.a = a\n",
    "        self.b = b\n",
    "\n",
    "    def series(self):\n",
    "        while(True):\n",
    "            yield(self.b)\n",
    "            self.a, self.b = self.b, self.a + self.b\n",
    "\n",
    "f = Fibonacci(0, 1)\n",
    "for r in f.series():\n",
    "    if r > 100: break    \n",
    "    print(r, end=' ')"
   ]
  },
  {
   "cell_type": "code",
   "execution_count": 5,
   "metadata": {},
   "outputs": [
    {
     "name": "stdout",
     "output_type": "stream",
     "text": [
      "[<__main__.Employee object at 0x000001C017A6A610>, <__main__.Employee object at 0x000001C017A69290>]\n",
      "Mark\n",
      "22.5\n"
     ]
    }
   ],
   "source": [
    "# Let's create a more useful example of a class with parameters:\n",
    "class Employee:\n",
    "    def __init__(self, name, age, level) -> None:\n",
    "        self.name = name\n",
    "        self.age = age\n",
    "        self.level = level # 0 - 100\n",
    "\n",
    "    def get_level(self):\n",
    "        return self.level\n",
    "    \n",
    "class Job:\n",
    "    def __init__(self, name, max_employees) -> None:\n",
    "        self.name = name\n",
    "        self.max_employees = max_employees\n",
    "        self.employees = []\n",
    "    def add_employee(self, employee):\n",
    "        if len(self.employees) < self.max_employees:\n",
    "            self.employees.append(employee)\n",
    "            return True\n",
    "        return False\n",
    "    def get_avg_level(self):\n",
    "        value = 0\n",
    "        for employee in self.employees:\n",
    "            value += employee.get_level()\n",
    "        return value / len(self.employees)\n",
    "\n",
    "e1 = Employee(\"Mark\", 33, 20)\n",
    "e2 = Employee(\"Bob\", 33, 25)\n",
    "e3 = Employee(\"Bill\", 33, 32)\n",
    "\n",
    "job = Job(\"OpenAI\",2)\n",
    "job.add_employee(e1)\n",
    "job.add_employee(e2)\n",
    "print(job.employees)\n",
    "# Show the name of the first employee in \"OpenAI\"\n",
    "print(job.employees[0].name)\n",
    "# Show average level\n",
    "print(job.get_avg_level())"
   ]
  },
  {
   "cell_type": "code",
   "execution_count": 20,
   "metadata": {},
   "outputs": [
    {
     "data": {
      "text/plain": [
       "3"
      ]
     },
     "execution_count": 20,
     "metadata": {},
     "output_type": "execute_result"
    }
   ],
   "source": [
    "# Variable number of arguments in a function\n",
    "def new_func(*args):\n",
    "    total = sum(args)\n",
    "    return total\n",
    "\n",
    "new_func(2,1)"
   ]
  },
  {
   "cell_type": "code",
   "execution_count": 24,
   "metadata": {},
   "outputs": [
    {
     "name": "stdout",
     "output_type": "stream",
     "text": [
      "3 keyword arguments passed:\n",
      "days: 1\n",
      "day: Wednesday\n",
      "users: 3\n"
     ]
    }
   ],
   "source": [
    "# Variable number of keyword arguments in a function:\n",
    "def variable_length(**kwargs):\n",
    "    print(f\"{len(kwargs)} keyword arguments passed:\")\n",
    "    for title, name in kwargs.items():\n",
    "        print(f\"{title}: {name}\")\n",
    "\n",
    "variable_length(days=1, day=\"Wednesday\", users=3)"
   ]
  },
  {
   "cell_type": "code",
   "execution_count": 6,
   "metadata": {},
   "outputs": [],
   "source": [
    "# Python Object Oriented Programming (OOP) - For Beginners\n",
    "# 28:00\n",
    "# https://youtu.be/JeznW_7DlB0?t=1685"
   ]
  },
  {
   "cell_type": "code",
   "execution_count": null,
   "metadata": {},
   "outputs": [],
   "source": []
  }
 ],
 "metadata": {
  "kernelspec": {
   "display_name": ".venv",
   "language": "python",
   "name": "python3"
  },
  "language_info": {
   "codemirror_mode": {
    "name": "ipython",
    "version": 3
   },
   "file_extension": ".py",
   "mimetype": "text/x-python",
   "name": "python",
   "nbconvert_exporter": "python",
   "pygments_lexer": "ipython3",
   "version": "3.11.3"
  }
 },
 "nbformat": 4,
 "nbformat_minor": 2
}
